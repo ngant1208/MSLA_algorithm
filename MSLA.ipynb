{
 "cells": [
  {
   "cell_type": "code",
   "execution_count": 2,
   "id": "1b92efd1",
   "metadata": {},
   "outputs": [],
   "source": [
    "import networkx as nx\n",
    "import matplotlib.pyplot as plt\n",
    "import matplotlib.pyplot as plt\n",
    "import random\n",
    "import math\n",
    "import numpy as np\n"
   ]
  },
  {
   "cell_type": "code",
   "execution_count": null,
   "id": "a7497da5",
   "metadata": {},
   "outputs": [],
   "source": [
    "node_list=[]\n",
    "h=0;\n",
    "for i in range(90):\n",
    "    node_list.append(h)\n",
    "    h=h+1\n",
    "print(node_list)"
   ]
  },
  {
   "cell_type": "code",
   "execution_count": null,
   "id": "0f00ce8e",
   "metadata": {},
   "outputs": [],
   "source": [
    "G= nx.Graph()\n",
    "\n",
    "xrandom=[]\n",
    "for i in range(90):\n",
    "    n=random.randint(10,750)\n",
    "    xrandom.append(n)\n",
    "print(xrandom)\n",
    "yrandom=[]\n",
    "for i in range(90):\n",
    "    n=random.randint(10,750)\n",
    "    yrandom.append(n)\n",
    "print(yrandom)"
   ]
  },
  {
   "cell_type": "code",
   "execution_count": null,
   "id": "7350178f",
   "metadata": {},
   "outputs": [],
   "source": [
    "color_map=[]"
   ]
  },
  {
   "cell_type": "code",
   "execution_count": null,
   "id": "3afe9577",
   "metadata": {},
   "outputs": [],
   "source": [
    "\n",
    "for i in node_list:\n",
    "    if i!=45:\n",
    "        color_map.append(\"lightblue\")\n",
    "    else:\n",
    "        color_map.append(\"red\")\n",
    "print(color_map)"
   ]
  },
  {
   "cell_type": "code",
   "execution_count": null,
   "id": "e2f18326",
   "metadata": {},
   "outputs": [],
   "source": [
    "\n",
    "for i in node_list:\n",
    "    if i!=45:\n",
    "        G.add_node(i, pos=(xrandom[i-1],yrandom[i-1]),node_color='lightblue')\n",
    "    else:\n",
    "        G.add_node(i, pos=(xrandom[i-1],yrandom[i-1]),node_color='red')\n",
    "f=plt.figure()\n",
    "f.set_figwidth(20)\n",
    "f.set_figheight(12)\n",
    "plt.xlim(0,800)\n",
    "plt.ylim(0,800)\n",
    "#fix\n",
    "for i in node_list:\n",
    "    if i!=45:\n",
    "        G.add_edge(45,i)\n",
    "nx.draw_networkx(G, nx.get_node_attributes(G, 'pos'),node_color=color_map,font_weight='bold',node_shape='s',with_labels=True, node_size=500)\n",
    "plt.show()"
   ]
  },
  {
   "cell_type": "code",
   "execution_count": null,
   "id": "df0785fe",
   "metadata": {},
   "outputs": [],
   "source": [
    "g1=np.zeros((90,90),dtype=int)\n",
    "L1=4"
   ]
  },
  {
   "cell_type": "code",
   "execution_count": null,
   "id": "15fd37a1",
   "metadata": {},
   "outputs": [],
   "source": [
    "g2=np.zeros((90,90),dtype=int)\n",
    "L2=10"
   ]
  },
  {
   "cell_type": "code",
   "execution_count": null,
   "id": "da236bb8",
   "metadata": {},
   "outputs": [],
   "source": [
    "g3=np.zeros((90,90),dtype=int)\n",
    "L3=20"
   ]
  },
  {
   "cell_type": "code",
   "execution_count": null,
   "id": "05137ae9",
   "metadata": {},
   "outputs": [],
   "source": [
    "def distan(x1, y1,x2,y2):\n",
    "    d=math.sqrt((x1-x2)**2+(y1-y2)**2)\n",
    "    return d"
   ]
  },
  {
   "cell_type": "markdown",
   "id": "92a4274e",
   "metadata": {},
   "source": [
    "# Bảng giá liên kết"
   ]
  },
  {
   "cell_type": "code",
   "execution_count": null,
   "id": "6f262927",
   "metadata": {},
   "outputs": [],
   "source": [
    "for i in range(90):\n",
    "    for j in range(90):\n",
    "        t=distan(xrandom[i],yrandom[i],xrandom[j],yrandom[j])\n",
    "        g1[i][j]=round(0.2*t)\n",
    "\n",
    "print(g1)"
   ]
  },
  {
   "cell_type": "code",
   "execution_count": null,
   "id": "8315701e",
   "metadata": {},
   "outputs": [],
   "source": [
    "for i in range(90):\n",
    "    for j in range(90):\n",
    "        t=distan(xrandom[i],yrandom[i],xrandom[j],yrandom[j])\n",
    "        g2[i][j]=round(0.3*t)\n",
    "\n",
    "print(g2)"
   ]
  },
  {
   "cell_type": "code",
   "execution_count": null,
   "id": "a48268f3",
   "metadata": {},
   "outputs": [],
   "source": [
    "for i in range(90):\n",
    "     for j in range(90):\n",
    "        t=distan(xrandom[i],yrandom[i],xrandom[j],yrandom[j])\n",
    "        g3[i][j]=round(0.5*t)\n",
    "\n",
    "print(g3)"
   ]
  },
  {
   "cell_type": "markdown",
   "id": "3c9e8be1",
   "metadata": {},
   "source": [
    "# Lưu lượng của mỗi node"
   ]
  },
  {
   "cell_type": "code",
   "execution_count": 3,
   "id": "ff034883",
   "metadata": {},
   "outputs": [
    {
     "name": "stdout",
     "output_type": "stream",
     "text": [
      "[ 1  3  1  1  1  1  1 15  1  1  1  1  3  1  1  1  1  5  1  1  1  1  1 15\n",
      "  1  1  1  1  1  5  1  1  1  1  1  1  1  1  1  1  1  1  1  1  1  0  1  1\n",
      "  1  1  1  1  1  1  1  1  1  1  1  5  1  1  1  1  1  1  1  1  1  1  1  1\n",
      "  3  1  1  1  1  1  1  1  1  1  1  1  1  1  1  1  1  1]\n"
     ]
    }
   ],
   "source": [
    "w=np.zeros(90,dtype=np.int64)\n",
    "for i in range(90):\n",
    "    if i==45:\n",
    "        w[i]=0\n",
    "    elif(i==1 or i==12 or i==72):\n",
    "        w[i]=3\n",
    "    elif(i==17 or i==59 or i==29):\n",
    "        w[i]=5\n",
    "    elif(i==7 or i==23 or i==45):\n",
    "        w[i]=15\n",
    "    else:\n",
    "        w[i]=1\n",
    "        \n",
    "print(w)"
   ]
  },
  {
   "cell_type": "markdown",
   "id": "d192dca4",
   "metadata": {},
   "source": [
    "# Chọn liên kết "
   ]
  },
  {
   "cell_type": "code",
   "execution_count": 4,
   "id": "612b3a7b",
   "metadata": {},
   "outputs": [
    {
     "name": "stdout",
     "output_type": "stream",
     "text": [
      "[ 4  4  4  4  4  4  4 20  4  4  4  4  4  4  4  4  4 10  4  4  4  4  4 20\n",
      "  4  4  4  4  4 10  4  4  4  4  4  4  4  4  4  4  4  4  4  4  4  0  4  4\n",
      "  4  4  4  4  4  4  4  4  4  4  4 10  4  4  4  4  4  4  4  4  4  4  4  4\n",
      "  4  4  4  4  4  4  4  4  4  4  4  4  4  4  4  4  4  4]\n"
     ]
    }
   ],
   "source": [
    "Li=np.zeros(90,dtype=int)\n",
    "for i in range(90):\n",
    "    if i==45:\n",
    "        Li[i]=0\n",
    "    elif w[i]<=4:\n",
    "        Li[i]=4\n",
    "    elif w[i]<=10 and w[i]>4:\n",
    "        Li[i]=10\n",
    "    else:\n",
    "        Li[i]=20\n",
    "print(Li)\n",
    "        \n",
    "        "
   ]
  },
  {
   "cell_type": "markdown",
   "id": "05620696",
   "metadata": {},
   "source": [
    "# Tính dung lượng dư mỗi nút"
   ]
  },
  {
   "cell_type": "code",
   "execution_count": null,
   "id": "6b94770a",
   "metadata": {},
   "outputs": [],
   "source": [
    "du=np.zeros(90,dtype=np.int64)"
   ]
  },
  {
   "cell_type": "code",
   "execution_count": null,
   "id": "2f92ddb0",
   "metadata": {},
   "outputs": [],
   "source": [
    "for i in range(90):\n",
    "    du[i]=Li[i]-w[i]\n",
    "print(du)"
   ]
  },
  {
   "cell_type": "code",
   "execution_count": null,
   "id": "142c8575",
   "metadata": {},
   "outputs": [],
   "source": [
    "print(du)"
   ]
  },
  {
   "cell_type": "markdown",
   "id": "6a7c6d88",
   "metadata": {},
   "source": [
    "# Xét thỏa hiệp"
   ]
  },
  {
   "cell_type": "code",
   "execution_count": null,
   "id": "a6c4f2ae",
   "metadata": {},
   "outputs": [],
   "source": [
    "#ham upgrade\n",
    "def upgrade(a,w,l):\n",
    "    upg=0\n",
    "    if(du[a]-w>=0):\n",
    "        upg=0\n",
    "    else:\n",
    "        if l==L1:\n",
    "            upg=g2[a][45]-g1[a][45]\n",
    "        elif l==L2:\n",
    "            upg=g3[a][45]-g2[a][45]\n",
    "        else:\n",
    "            upg=0\n",
    "    return upg\n",
    "\n",
    "#ham thoa hiep\n",
    "def pre_comp(x,i,l):\n",
    "    if x==i or x==45:\n",
    "        th=0\n",
    "    elif l==L1:\n",
    "        th=g1[x][i]-g1[x][45]+upgrade(i,w[x],l)\n",
    "    elif l==L2:\n",
    "        th=g2[x][i]-g2[x][45]+upgrade(i,w[x],l)\n",
    "    else:\n",
    "        th=g3[x][i]-g3[x][45]+upgrade(i,w[x],l)\n",
    "    return th\n",
    "\n",
    "\n",
    "#ham thoa hiep update\n",
    "#khi node x da noi voi node y\n",
    "#x: node xet thoa hiep\n",
    "def pre_comp_update(x,y,i,l):\n",
    "    if x==i or x==45 or y==45 :\n",
    "        th=0\n",
    "    elif l==L1:\n",
    "        th=g1[x][i]-g1[y][45]+upgrade(i,w[x],l)\n",
    "    elif l==L2:\n",
    "        th=g2[x][i]-g2[y][45]+upgrade(i,w[x],l)\n",
    "    else:\n",
    "        th=g3[x][i]-g3[y][45]+upgrade(i,w[x],l)\n",
    "    return th\n",
    "\n",
    "#hoam thoa hiep hoan chinh cua 1 node \n",
    "def Comp(x,l):\n",
    "    mi=0\n",
    "    idx=0\n",
    "    for j in range(0,90):\n",
    "        if j!=x:\n",
    "            m=pre_comp(x,j,l)\n",
    "            if(m<mi):\n",
    "                mi=m\n",
    "                idx=j\n",
    "    return mi,x,idx\n",
    "    \n",
    "#x: node co thoa hiep am\n",
    "#y: node duoc noi hay node co thoa hiep am nhat\n",
    "#l: lien ket cua y\n",
    "#w=wx+wy\n",
    "#n: node co thoa hiep am trong thoa hiep cua x\n",
    "\n",
    "\n",
    "def Comp_update(x,y,l):\n",
    "    mi=0\n",
    "    idx=0\n",
    "    for j in range(0,90):\n",
    "        if j!=x:\n",
    "            m=pre_comp_update(x,y,j,l)\n",
    "            if(m<mi):\n",
    "                mi=m\n",
    "                idx=j\n",
    "    return mi,x,idx\n",
    "        "
   ]
  },
  {
   "cell_type": "code",
   "execution_count": null,
   "id": "d929e542",
   "metadata": {},
   "outputs": [],
   "source": [
    "\n",
    "#thoa hiep nho nhat\n",
    "#node co thoa hiep nho nhat\n",
    "#node ung voi thoa hiep nho nhat\n",
    "\n",
    "\n",
    "#noi bo cac node\n",
    "def mark_del(lis):\n",
    "    for i in range(0,90):\n",
    "        if(lis[i][0]<0 and i!=45 and lis[i][2]!=45):\n",
    "            u=i\n",
    "            v=lis[i][2]\n",
    "            G.add_edge(u,v)\n",
    "            if(G.has_edge(45,u)):\n",
    "                G.remove_edge(45,u)"
   ]
  },
  {
   "cell_type": "markdown",
   "id": "815296a1",
   "metadata": {},
   "source": [
    "# Thực hiện so sánh thỏa hiệp"
   ]
  },
  {
   "cell_type": "code",
   "execution_count": null,
   "id": "f58c64a3",
   "metadata": {},
   "outputs": [],
   "source": [
    "# cap nhat node noi voi nut goc\n",
    "#ban dau tat cac cac node la chinh no\n",
    "nr=[]\n",
    "for i in range(0,90):\n",
    "    nr.append(i)\n",
    "print(nr)"
   ]
  },
  {
   "cell_type": "code",
   "execution_count": null,
   "id": "37e954cb",
   "metadata": {},
   "outputs": [],
   "source": [
    "#mang 90x90 luu gia tri tat ca cac thoa hiep \n",
    "comp_arr=np.zeros((90,90),dtype=int)\n",
    "for i in range(0,90):\n",
    "    for j in range(0,90):\n",
    "        t=pre_comp(i,j,Li[i])\n",
    "        comp_arr[i][j]=t\n",
    "print(comp_arr)\n",
    "#for i in range(0,90):\n",
    "#print(comp_arr[7])"
   ]
  },
  {
   "cell_type": "code",
   "execution_count": null,
   "id": "9bf1f759",
   "metadata": {},
   "outputs": [],
   "source": [
    "list_comp=[]\n",
    "for i in range(0,90):\n",
    "    res=Comp(i,Li[i])\n",
    "    list_comp.append(res)\n",
    "print(list_comp)"
   ]
  },
  {
   "cell_type": "code",
   "execution_count": null,
   "id": "1c8cd3f5",
   "metadata": {},
   "outputs": [],
   "source": [
    "#find min in many comp\n",
    "def find_min_comp(li_com):\n",
    "    li=[]\n",
    "    re=[]\n",
    "    for i in range(0,90):\n",
    "        li.append(li_com[i][0])\n",
    "    for i in range(0,90):\n",
    "        if li_com[i][0]==min(li):\n",
    "            re=li_com[i]\n",
    "            break\n",
    "    return re\n",
    "        \n",
    "    "
   ]
  },
  {
   "cell_type": "code",
   "execution_count": null,
   "id": "6cd30252",
   "metadata": {},
   "outputs": [],
   "source": [
    "x=find_min_comp(list_comp)\n",
    "print(x)"
   ]
  },
  {
   "cell_type": "code",
   "execution_count": null,
   "id": "e80215a2",
   "metadata": {},
   "outputs": [],
   "source": [
    "cp_list=[]\n",
    "for i in range(0,90):\n",
    "    cp_list.append(list_comp[i][0])\n",
    "print(cp_list)"
   ]
  },
  {
   "cell_type": "code",
   "execution_count": null,
   "id": "6a5d9aeb",
   "metadata": {},
   "outputs": [],
   "source": [
    "def Mark_del(u,v):\n",
    "# noi va xoa \n",
    "    G.add_edge(u,v)\n",
    "    if(G.has_edge(45,nr[u])):\n",
    "        G.remove_edge(45,nr[u])\n",
    "#cap nhat trong so\n",
    "    t=nr[u]\n",
    "    h=w[u]\n",
    "    k=w[v]\n",
    "    if t!=u:\n",
    "        w[u]=w[v]=w[t]=h+k\n",
    "    else:\n",
    "        w[u]=w[v]=h+k\n",
    "#thay doi node noi den goc\n",
    "    nr[u]=nr[v]\n",
    "            "
   ]
  },
  {
   "cell_type": "code",
   "execution_count": null,
   "id": "5831a337",
   "metadata": {},
   "outputs": [],
   "source": [
    "#dieu kien dung cua chuong trinh\n",
    "#lis_com la mang cac thoa hiep \n",
    "def check(lis_com):\n",
    "    x=0\n",
    "    for i in lis_com:\n",
    "        if i<0:\n",
    "            x=x or 1\n",
    "        else:\n",
    "            x= x or 0\n",
    "    return x        \n",
    "\n",
    "\n",
    "#ham to nhat\n",
    "# khi da co list_comp\n",
    "def MSLA(li_com):\n",
    "    d=find_min_comp(li_com)\n",
    "    u=d[1]\n",
    "    v=d[2]\n",
    "    Mark_del(u,v)#ham nay se cap nhat luon trong so\n",
    "    n=Comp_update(u,v,Li[nr[v]])\n",
    "    #sua lai thoa hiep trong list\n",
    "    li_com[u]=n\n",
    "    cp_list[u]=li_com[u][0]\n",
    "#chuong trinh \n",
    "\n",
    "    \n",
    "    "
   ]
  },
  {
   "cell_type": "code",
   "execution_count": null,
   "id": "3fea1a62",
   "metadata": {},
   "outputs": [],
   "source": [
    "'''while(1):\n",
    "    n=check(cp_list)\n",
    "    if(n):\n",
    "        MLSA(list_comp)\n",
    "    else:\n",
    "        break'''"
   ]
  },
  {
   "cell_type": "markdown",
   "id": "89169eb1",
   "metadata": {},
   "source": [
    "# Kết quả"
   ]
  },
  {
   "cell_type": "code",
   "execution_count": null,
   "id": "ee9d689b",
   "metadata": {},
   "outputs": [],
   "source": [
    "\n",
    "for i in node_list:\n",
    "    if i!=45:\n",
    "        G.add_node(i, pos=(xrandom[i-1],yrandom[i-1]),node_color='lightblue')\n",
    "    else:\n",
    "        G.add_node(i, pos=(xrandom[i-1],yrandom[i-1]),node_color='lightred')\n",
    "f=plt.figure()\n",
    "f.set_figwidth(20)\n",
    "f.set_figheight(12)\n",
    "plt.xlim(0,800)\n",
    "plt.ylim(0,800)\n",
    "#fix\n",
    "# noi tat ca cac diem trong do thi voi 45\n",
    "for i in node_list:\n",
    "    if i!=45:\n",
    "        G.add_edge(45,i)\n",
    "#thuc hien chuong trinh MSLA\n",
    "for i in range(0,90):\n",
    "    n=check(cp_list)\n",
    "    if(n):\n",
    "        MSLA(list_comp)\n",
    "    else:\n",
    "        break\n",
    "\n",
    "nx.draw_networkx(G, nx.get_node_attributes(G, 'pos'),node_color=color_map,font_weight='bold',node_shape='s',with_labels=True, node_size=500)\n",
    "plt.show()\n"
   ]
  },
  {
   "cell_type": "code",
   "execution_count": null,
   "id": "3afa36b0",
   "metadata": {},
   "outputs": [],
   "source": []
  },
  {
   "cell_type": "code",
   "execution_count": null,
   "id": "e8a11d62",
   "metadata": {},
   "outputs": [],
   "source": [
    "for i in node_list:\n",
    "    if i!=45:\n",
    "        G.add_node(i, pos=(xrandom[i-1],yrandom[i-1]),node_color='lightblue')\n",
    "    else:\n",
    "        G.add_node(i, pos=(xrandom[i-1],yrandom[i-1]),node_color='lightred')\n",
    "f=plt.figure()\n",
    "f.set_figwidth(20)\n",
    "f.set_figheight(12)\n",
    "plt.xlim(0,800)\n",
    "plt.ylim(0,800)\n",
    "#fix\n",
    "# noi tat ca cac diem trong do thi voi 45\n",
    "for i in node_list:\n",
    "    if i!=45:\n",
    "        G.add_edge(45,i)\n",
    "# ghep va bo cac canh \n",
    "mark_del(list_comp)\n",
    "\n",
    "nx.draw_networkx(G, nx.get_node_attributes(G, 'pos'),node_color=color_map,font_weight='bold',node_shape='s',with_labels=True, node_size=500)\n",
    "plt.show()\n"
   ]
  }
 ],
 "metadata": {
  "kernelspec": {
   "display_name": "Python 3 (ipykernel)",
   "language": "python",
   "name": "python3"
  },
  "language_info": {
   "codemirror_mode": {
    "name": "ipython",
    "version": 3
   },
   "file_extension": ".py",
   "mimetype": "text/x-python",
   "name": "python",
   "nbconvert_exporter": "python",
   "pygments_lexer": "ipython3",
   "version": "3.8.10"
  }
 },
 "nbformat": 4,
 "nbformat_minor": 5
}
